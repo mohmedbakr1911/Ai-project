{
 "cells": [
  {
   "cell_type": "code",
   "execution_count": 1,
   "id": "333954dd-cc7e-4463-b467-83cface2d083",
   "metadata": {},
   "outputs": [
    {
     "name": "stdout",
     "output_type": "stream",
     "text": [
      "Requirement already satisfied: plot in c:\\users\\dell\\appdata\\local\\programs\\python\\python312\\lib\\site-packages (0.6.5)\n",
      "Requirement already satisfied: matplotlib in c:\\users\\dell\\appdata\\local\\programs\\python\\python312\\lib\\site-packages (from plot) (3.9.3)\n",
      "Requirement already satisfied: typing in c:\\users\\dell\\appdata\\local\\programs\\python\\python312\\lib\\site-packages (from plot) (3.7.4.3)\n",
      "Requirement already satisfied: numpy in c:\\users\\dell\\appdata\\local\\programs\\python\\python312\\lib\\site-packages (from plot) (2.1.3)\n",
      "Requirement already satisfied: scipy in c:\\users\\dell\\appdata\\local\\programs\\python\\python312\\lib\\site-packages (from plot) (1.14.1)\n",
      "Requirement already satisfied: pyyaml in c:\\users\\dell\\appdata\\local\\programs\\python\\python312\\lib\\site-packages (from plot) (6.0.2)\n",
      "Requirement already satisfied: contourpy>=1.0.1 in c:\\users\\dell\\appdata\\local\\programs\\python\\python312\\lib\\site-packages (from matplotlib->plot) (1.3.1)\n",
      "Requirement already satisfied: cycler>=0.10 in c:\\users\\dell\\appdata\\local\\programs\\python\\python312\\lib\\site-packages (from matplotlib->plot) (0.12.1)\n",
      "Requirement already satisfied: fonttools>=4.22.0 in c:\\users\\dell\\appdata\\local\\programs\\python\\python312\\lib\\site-packages (from matplotlib->plot) (4.55.2)\n",
      "Requirement already satisfied: kiwisolver>=1.3.1 in c:\\users\\dell\\appdata\\local\\programs\\python\\python312\\lib\\site-packages (from matplotlib->plot) (1.4.7)\n",
      "Requirement already satisfied: packaging>=20.0 in c:\\users\\dell\\appdata\\local\\programs\\python\\python312\\lib\\site-packages (from matplotlib->plot) (24.1)\n",
      "Requirement already satisfied: pillow>=8 in c:\\users\\dell\\appdata\\local\\programs\\python\\python312\\lib\\site-packages (from matplotlib->plot) (10.4.0)\n",
      "Requirement already satisfied: pyparsing>=2.3.1 in c:\\users\\dell\\appdata\\local\\programs\\python\\python312\\lib\\site-packages (from matplotlib->plot) (3.2.0)\n",
      "Requirement already satisfied: python-dateutil>=2.7 in c:\\users\\dell\\appdata\\local\\programs\\python\\python312\\lib\\site-packages (from matplotlib->plot) (2.9.0.post0)\n",
      "Requirement already satisfied: six>=1.5 in c:\\users\\dell\\appdata\\local\\programs\\python\\python312\\lib\\site-packages (from python-dateutil>=2.7->matplotlib->plot) (1.17.0)\n"
     ]
    },
    {
     "name": "stderr",
     "output_type": "stream",
     "text": [
      "\n",
      "[notice] A new release of pip is available: 24.2 -> 24.3.1\n",
      "[notice] To update, run: python.exe -m pip install --upgrade pip\n"
     ]
    },
    {
     "name": "stdout",
     "output_type": "stream",
     "text": [
      "Requirement already satisfied: matplotlib in c:\\users\\dell\\appdata\\local\\programs\\python\\python312\\lib\\site-packages (3.9.3)\n",
      "Requirement already satisfied: contourpy>=1.0.1 in c:\\users\\dell\\appdata\\local\\programs\\python\\python312\\lib\\site-packages (from matplotlib) (1.3.1)\n",
      "Requirement already satisfied: cycler>=0.10 in c:\\users\\dell\\appdata\\local\\programs\\python\\python312\\lib\\site-packages (from matplotlib) (0.12.1)\n",
      "Requirement already satisfied: fonttools>=4.22.0 in c:\\users\\dell\\appdata\\local\\programs\\python\\python312\\lib\\site-packages (from matplotlib) (4.55.2)\n",
      "Requirement already satisfied: kiwisolver>=1.3.1 in c:\\users\\dell\\appdata\\local\\programs\\python\\python312\\lib\\site-packages (from matplotlib) (1.4.7)\n",
      "Requirement already satisfied: numpy>=1.23 in c:\\users\\dell\\appdata\\local\\programs\\python\\python312\\lib\\site-packages (from matplotlib) (2.1.3)\n",
      "Requirement already satisfied: packaging>=20.0 in c:\\users\\dell\\appdata\\local\\programs\\python\\python312\\lib\\site-packages (from matplotlib) (24.1)\n",
      "Requirement already satisfied: pillow>=8 in c:\\users\\dell\\appdata\\local\\programs\\python\\python312\\lib\\site-packages (from matplotlib) (10.4.0)\n",
      "Requirement already satisfied: pyparsing>=2.3.1 in c:\\users\\dell\\appdata\\local\\programs\\python\\python312\\lib\\site-packages (from matplotlib) (3.2.0)\n",
      "Requirement already satisfied: python-dateutil>=2.7 in c:\\users\\dell\\appdata\\local\\programs\\python\\python312\\lib\\site-packages (from matplotlib) (2.9.0.post0)\n",
      "Requirement already satisfied: six>=1.5 in c:\\users\\dell\\appdata\\local\\programs\\python\\python312\\lib\\site-packages (from python-dateutil>=2.7->matplotlib) (1.17.0)\n"
     ]
    },
    {
     "name": "stderr",
     "output_type": "stream",
     "text": [
      "\n",
      "[notice] A new release of pip is available: 24.2 -> 24.3.1\n",
      "[notice] To update, run: python.exe -m pip install --upgrade pip\n"
     ]
    },
    {
     "name": "stdout",
     "output_type": "stream",
     "text": [
      "Requirement already satisfied: seaborn in c:\\users\\dell\\appdata\\local\\programs\\python\\python312\\lib\\site-packages (0.13.2)\n",
      "Requirement already satisfied: numpy!=1.24.0,>=1.20 in c:\\users\\dell\\appdata\\local\\programs\\python\\python312\\lib\\site-packages (from seaborn) (2.1.3)\n",
      "Requirement already satisfied: pandas>=1.2 in c:\\users\\dell\\appdata\\local\\programs\\python\\python312\\lib\\site-packages (from seaborn) (2.2.3)\n",
      "Requirement already satisfied: matplotlib!=3.6.1,>=3.4 in c:\\users\\dell\\appdata\\local\\programs\\python\\python312\\lib\\site-packages (from seaborn) (3.9.3)\n",
      "Requirement already satisfied: contourpy>=1.0.1 in c:\\users\\dell\\appdata\\local\\programs\\python\\python312\\lib\\site-packages (from matplotlib!=3.6.1,>=3.4->seaborn) (1.3.1)\n",
      "Requirement already satisfied: cycler>=0.10 in c:\\users\\dell\\appdata\\local\\programs\\python\\python312\\lib\\site-packages (from matplotlib!=3.6.1,>=3.4->seaborn) (0.12.1)\n",
      "Requirement already satisfied: fonttools>=4.22.0 in c:\\users\\dell\\appdata\\local\\programs\\python\\python312\\lib\\site-packages (from matplotlib!=3.6.1,>=3.4->seaborn) (4.55.2)\n",
      "Requirement already satisfied: kiwisolver>=1.3.1 in c:\\users\\dell\\appdata\\local\\programs\\python\\python312\\lib\\site-packages (from matplotlib!=3.6.1,>=3.4->seaborn) (1.4.7)\n",
      "Requirement already satisfied: packaging>=20.0 in c:\\users\\dell\\appdata\\local\\programs\\python\\python312\\lib\\site-packages (from matplotlib!=3.6.1,>=3.4->seaborn) (24.1)\n",
      "Requirement already satisfied: pillow>=8 in c:\\users\\dell\\appdata\\local\\programs\\python\\python312\\lib\\site-packages (from matplotlib!=3.6.1,>=3.4->seaborn) (10.4.0)\n",
      "Requirement already satisfied: pyparsing>=2.3.1 in c:\\users\\dell\\appdata\\local\\programs\\python\\python312\\lib\\site-packages (from matplotlib!=3.6.1,>=3.4->seaborn) (3.2.0)\n",
      "Requirement already satisfied: python-dateutil>=2.7 in c:\\users\\dell\\appdata\\local\\programs\\python\\python312\\lib\\site-packages (from matplotlib!=3.6.1,>=3.4->seaborn) (2.9.0.post0)\n",
      "Requirement already satisfied: pytz>=2020.1 in c:\\users\\dell\\appdata\\local\\programs\\python\\python312\\lib\\site-packages (from pandas>=1.2->seaborn) (2024.2)\n",
      "Requirement already satisfied: tzdata>=2022.7 in c:\\users\\dell\\appdata\\local\\programs\\python\\python312\\lib\\site-packages (from pandas>=1.2->seaborn) (2024.2)\n",
      "Requirement already satisfied: six>=1.5 in c:\\users\\dell\\appdata\\local\\programs\\python\\python312\\lib\\site-packages (from python-dateutil>=2.7->matplotlib!=3.6.1,>=3.4->seaborn) (1.17.0)\n"
     ]
    },
    {
     "name": "stderr",
     "output_type": "stream",
     "text": [
      "\n",
      "[notice] A new release of pip is available: 24.2 -> 24.3.1\n",
      "[notice] To update, run: python.exe -m pip install --upgrade pip\n"
     ]
    },
    {
     "name": "stdout",
     "output_type": "stream",
     "text": [
      "Requirement already satisfied: openpyxl in c:\\users\\dell\\appdata\\local\\programs\\python\\python312\\lib\\site-packages (3.1.5)\n",
      "Requirement already satisfied: et-xmlfile in c:\\users\\dell\\appdata\\local\\programs\\python\\python312\\lib\\site-packages (from openpyxl) (2.0.0)\n"
     ]
    },
    {
     "name": "stderr",
     "output_type": "stream",
     "text": [
      "\n",
      "[notice] A new release of pip is available: 24.2 -> 24.3.1\n",
      "[notice] To update, run: python.exe -m pip install --upgrade pip\n"
     ]
    }
   ],
   "source": [
    "!pip install plot\n",
    "!pip install matplotlib\n",
    "!pip install seaborn\n",
    "!pip install openpyxl"
   ]
  },
  {
   "cell_type": "code",
   "execution_count": 1,
   "id": "ec61314f-2ed0-4d64-8f37-e8806f0cf8c1",
   "metadata": {},
   "outputs": [],
   "source": [
    "import pandas as pd\n",
    "import numpy as np \n",
    "import matplotlib.pyplot as plt\n",
    "import seaborn as sns\n",
    "import plotly.express as px\n"
   ]
  },
  {
   "cell_type": "code",
   "execution_count": 3,
   "id": "3e6eb686-7415-4c03-86c5-109c08694441",
   "metadata": {},
   "outputs": [],
   "source": [
    "import warnings\n",
    "\n",
    "warnings.filterwarnings('ignore')"
   ]
  },
  {
   "cell_type": "code",
   "execution_count": 4,
   "id": "4879c7d2-1686-434f-8984-25b4df50fb14",
   "metadata": {},
   "outputs": [
    {
     "data": {
      "text/html": [
       "<div>\n",
       "<style scoped>\n",
       "    .dataframe tbody tr th:only-of-type {\n",
       "        vertical-align: middle;\n",
       "    }\n",
       "\n",
       "    .dataframe tbody tr th {\n",
       "        vertical-align: top;\n",
       "    }\n",
       "\n",
       "    .dataframe thead th {\n",
       "        text-align: right;\n",
       "    }\n",
       "</style>\n",
       "<table border=\"1\" class=\"dataframe\">\n",
       "  <thead>\n",
       "    <tr style=\"text-align: right;\">\n",
       "      <th></th>\n",
       "      <th>age</th>\n",
       "      <th>workclass</th>\n",
       "      <th>fnlwgt</th>\n",
       "      <th>education</th>\n",
       "      <th>education.num</th>\n",
       "      <th>marital.status</th>\n",
       "      <th>occupation</th>\n",
       "      <th>relationship</th>\n",
       "      <th>race</th>\n",
       "      <th>sex</th>\n",
       "      <th>capital.gain</th>\n",
       "      <th>capital.loss</th>\n",
       "      <th>hours.per.week</th>\n",
       "      <th>native.country</th>\n",
       "      <th>income</th>\n",
       "    </tr>\n",
       "  </thead>\n",
       "  <tbody>\n",
       "    <tr>\n",
       "      <th>0</th>\n",
       "      <td>90</td>\n",
       "      <td>?</td>\n",
       "      <td>77053</td>\n",
       "      <td>HS-grad</td>\n",
       "      <td>9</td>\n",
       "      <td>Widowed</td>\n",
       "      <td>?</td>\n",
       "      <td>Not-in-family</td>\n",
       "      <td>White</td>\n",
       "      <td>Female</td>\n",
       "      <td>0</td>\n",
       "      <td>4356</td>\n",
       "      <td>40</td>\n",
       "      <td>United-States</td>\n",
       "      <td>&lt;=50K</td>\n",
       "    </tr>\n",
       "    <tr>\n",
       "      <th>1</th>\n",
       "      <td>82</td>\n",
       "      <td>Private</td>\n",
       "      <td>132870</td>\n",
       "      <td>HS-grad</td>\n",
       "      <td>9</td>\n",
       "      <td>Widowed</td>\n",
       "      <td>Exec-managerial</td>\n",
       "      <td>Not-in-family</td>\n",
       "      <td>White</td>\n",
       "      <td>Female</td>\n",
       "      <td>0</td>\n",
       "      <td>4356</td>\n",
       "      <td>18</td>\n",
       "      <td>United-States</td>\n",
       "      <td>&lt;=50K</td>\n",
       "    </tr>\n",
       "    <tr>\n",
       "      <th>2</th>\n",
       "      <td>66</td>\n",
       "      <td>?</td>\n",
       "      <td>186061</td>\n",
       "      <td>Some-college</td>\n",
       "      <td>10</td>\n",
       "      <td>Widowed</td>\n",
       "      <td>?</td>\n",
       "      <td>Unmarried</td>\n",
       "      <td>Black</td>\n",
       "      <td>Female</td>\n",
       "      <td>0</td>\n",
       "      <td>4356</td>\n",
       "      <td>40</td>\n",
       "      <td>United-States</td>\n",
       "      <td>&lt;=50K</td>\n",
       "    </tr>\n",
       "    <tr>\n",
       "      <th>3</th>\n",
       "      <td>54</td>\n",
       "      <td>Private</td>\n",
       "      <td>140359</td>\n",
       "      <td>7th-8th</td>\n",
       "      <td>4</td>\n",
       "      <td>Divorced</td>\n",
       "      <td>Machine-op-inspct</td>\n",
       "      <td>Unmarried</td>\n",
       "      <td>White</td>\n",
       "      <td>Female</td>\n",
       "      <td>0</td>\n",
       "      <td>3900</td>\n",
       "      <td>40</td>\n",
       "      <td>United-States</td>\n",
       "      <td>&lt;=50K</td>\n",
       "    </tr>\n",
       "    <tr>\n",
       "      <th>4</th>\n",
       "      <td>41</td>\n",
       "      <td>Private</td>\n",
       "      <td>264663</td>\n",
       "      <td>Some-college</td>\n",
       "      <td>10</td>\n",
       "      <td>Separated</td>\n",
       "      <td>Prof-specialty</td>\n",
       "      <td>Own-child</td>\n",
       "      <td>White</td>\n",
       "      <td>Female</td>\n",
       "      <td>0</td>\n",
       "      <td>3900</td>\n",
       "      <td>40</td>\n",
       "      <td>United-States</td>\n",
       "      <td>&lt;=50K</td>\n",
       "    </tr>\n",
       "  </tbody>\n",
       "</table>\n",
       "</div>"
      ],
      "text/plain": [
       "   age workclass  fnlwgt     education  education.num marital.status  \\\n",
       "0   90         ?   77053       HS-grad              9        Widowed   \n",
       "1   82   Private  132870       HS-grad              9        Widowed   \n",
       "2   66         ?  186061  Some-college             10        Widowed   \n",
       "3   54   Private  140359       7th-8th              4       Divorced   \n",
       "4   41   Private  264663  Some-college             10      Separated   \n",
       "\n",
       "          occupation   relationship   race     sex  capital.gain  \\\n",
       "0                  ?  Not-in-family  White  Female             0   \n",
       "1    Exec-managerial  Not-in-family  White  Female             0   \n",
       "2                  ?      Unmarried  Black  Female             0   \n",
       "3  Machine-op-inspct      Unmarried  White  Female             0   \n",
       "4     Prof-specialty      Own-child  White  Female             0   \n",
       "\n",
       "   capital.loss  hours.per.week native.country income  \n",
       "0          4356              40  United-States  <=50K  \n",
       "1          4356              18  United-States  <=50K  \n",
       "2          4356              40  United-States  <=50K  \n",
       "3          3900              40  United-States  <=50K  \n",
       "4          3900              40  United-States  <=50K  "
      ]
     },
     "execution_count": 4,
     "metadata": {},
     "output_type": "execute_result"
    }
   ],
   "source": [
    "adult = pd.read_excel('dataset_adult.xlsx')\n",
    "\n",
    "adult.head()"
   ]
  },
  {
   "cell_type": "code",
   "execution_count": 5,
   "id": "37847d20-66e8-4626-bec4-4d69cc83b957",
   "metadata": {},
   "outputs": [
    {
     "name": "stdout",
     "output_type": "stream",
     "text": [
      "<class 'pandas.core.frame.DataFrame'>\n",
      "RangeIndex: 32561 entries, 0 to 32560\n",
      "Data columns (total 15 columns):\n",
      " #   Column          Non-Null Count  Dtype \n",
      "---  ------          --------------  ----- \n",
      " 0   age             32561 non-null  int64 \n",
      " 1   workclass       32561 non-null  object\n",
      " 2   fnlwgt          32561 non-null  int64 \n",
      " 3   education       32561 non-null  object\n",
      " 4   education.num   32561 non-null  int64 \n",
      " 5   marital.status  32561 non-null  object\n",
      " 6   occupation      32561 non-null  object\n",
      " 7   relationship    32561 non-null  object\n",
      " 8   race            32561 non-null  object\n",
      " 9   sex             32561 non-null  object\n",
      " 10  capital.gain    32561 non-null  int64 \n",
      " 11  capital.loss    32561 non-null  int64 \n",
      " 12  hours.per.week  32561 non-null  int64 \n",
      " 13  native.country  32561 non-null  object\n",
      " 14  income          32561 non-null  object\n",
      "dtypes: int64(6), object(9)\n",
      "memory usage: 3.7+ MB\n"
     ]
    }
   ],
   "source": [
    "adult.info()"
   ]
  },
  {
   "cell_type": "code",
   "execution_count": 6,
   "id": "a8efc3a5-b056-4380-abbd-ff8e39fee6de",
   "metadata": {},
   "outputs": [
    {
     "data": {
      "text/html": [
       "<div>\n",
       "<style scoped>\n",
       "    .dataframe tbody tr th:only-of-type {\n",
       "        vertical-align: middle;\n",
       "    }\n",
       "\n",
       "    .dataframe tbody tr th {\n",
       "        vertical-align: top;\n",
       "    }\n",
       "\n",
       "    .dataframe thead th {\n",
       "        text-align: right;\n",
       "    }\n",
       "</style>\n",
       "<table border=\"1\" class=\"dataframe\">\n",
       "  <thead>\n",
       "    <tr style=\"text-align: right;\">\n",
       "      <th></th>\n",
       "      <th>age</th>\n",
       "      <th>fnlwgt</th>\n",
       "      <th>education.num</th>\n",
       "      <th>capital.gain</th>\n",
       "      <th>capital.loss</th>\n",
       "      <th>hours.per.week</th>\n",
       "    </tr>\n",
       "  </thead>\n",
       "  <tbody>\n",
       "    <tr>\n",
       "      <th>count</th>\n",
       "      <td>32561.000000</td>\n",
       "      <td>3.256100e+04</td>\n",
       "      <td>32561.000000</td>\n",
       "      <td>32561.000000</td>\n",
       "      <td>32561.000000</td>\n",
       "      <td>32561.000000</td>\n",
       "    </tr>\n",
       "    <tr>\n",
       "      <th>mean</th>\n",
       "      <td>38.581647</td>\n",
       "      <td>1.897784e+05</td>\n",
       "      <td>10.080679</td>\n",
       "      <td>1077.648844</td>\n",
       "      <td>87.303830</td>\n",
       "      <td>40.437456</td>\n",
       "    </tr>\n",
       "    <tr>\n",
       "      <th>std</th>\n",
       "      <td>13.640433</td>\n",
       "      <td>1.055500e+05</td>\n",
       "      <td>2.572720</td>\n",
       "      <td>7385.292085</td>\n",
       "      <td>402.960219</td>\n",
       "      <td>12.347429</td>\n",
       "    </tr>\n",
       "    <tr>\n",
       "      <th>min</th>\n",
       "      <td>17.000000</td>\n",
       "      <td>1.228500e+04</td>\n",
       "      <td>1.000000</td>\n",
       "      <td>0.000000</td>\n",
       "      <td>0.000000</td>\n",
       "      <td>1.000000</td>\n",
       "    </tr>\n",
       "    <tr>\n",
       "      <th>25%</th>\n",
       "      <td>28.000000</td>\n",
       "      <td>1.178270e+05</td>\n",
       "      <td>9.000000</td>\n",
       "      <td>0.000000</td>\n",
       "      <td>0.000000</td>\n",
       "      <td>40.000000</td>\n",
       "    </tr>\n",
       "    <tr>\n",
       "      <th>50%</th>\n",
       "      <td>37.000000</td>\n",
       "      <td>1.783560e+05</td>\n",
       "      <td>10.000000</td>\n",
       "      <td>0.000000</td>\n",
       "      <td>0.000000</td>\n",
       "      <td>40.000000</td>\n",
       "    </tr>\n",
       "    <tr>\n",
       "      <th>75%</th>\n",
       "      <td>48.000000</td>\n",
       "      <td>2.370510e+05</td>\n",
       "      <td>12.000000</td>\n",
       "      <td>0.000000</td>\n",
       "      <td>0.000000</td>\n",
       "      <td>45.000000</td>\n",
       "    </tr>\n",
       "    <tr>\n",
       "      <th>max</th>\n",
       "      <td>90.000000</td>\n",
       "      <td>1.484705e+06</td>\n",
       "      <td>16.000000</td>\n",
       "      <td>99999.000000</td>\n",
       "      <td>4356.000000</td>\n",
       "      <td>99.000000</td>\n",
       "    </tr>\n",
       "  </tbody>\n",
       "</table>\n",
       "</div>"
      ],
      "text/plain": [
       "                age        fnlwgt  education.num  capital.gain  capital.loss  \\\n",
       "count  32561.000000  3.256100e+04   32561.000000  32561.000000  32561.000000   \n",
       "mean      38.581647  1.897784e+05      10.080679   1077.648844     87.303830   \n",
       "std       13.640433  1.055500e+05       2.572720   7385.292085    402.960219   \n",
       "min       17.000000  1.228500e+04       1.000000      0.000000      0.000000   \n",
       "25%       28.000000  1.178270e+05       9.000000      0.000000      0.000000   \n",
       "50%       37.000000  1.783560e+05      10.000000      0.000000      0.000000   \n",
       "75%       48.000000  2.370510e+05      12.000000      0.000000      0.000000   \n",
       "max       90.000000  1.484705e+06      16.000000  99999.000000   4356.000000   \n",
       "\n",
       "       hours.per.week  \n",
       "count    32561.000000  \n",
       "mean        40.437456  \n",
       "std         12.347429  \n",
       "min          1.000000  \n",
       "25%         40.000000  \n",
       "50%         40.000000  \n",
       "75%         45.000000  \n",
       "max         99.000000  "
      ]
     },
     "execution_count": 6,
     "metadata": {},
     "output_type": "execute_result"
    }
   ],
   "source": [
    "adult.describe()"
   ]
  },
  {
   "cell_type": "code",
   "execution_count": 7,
   "id": "859eb4b1-5b78-4712-9cea-9b189e909108",
   "metadata": {},
   "outputs": [
    {
     "data": {
      "text/plain": [
       "(32561, 15)"
      ]
     },
     "execution_count": 7,
     "metadata": {},
     "output_type": "execute_result"
    }
   ],
   "source": [
    "adult.shape"
   ]
  },
  {
   "cell_type": "code",
   "execution_count": 8,
   "id": "d9c94dc7-57fa-434a-a641-c27d9219d1f3",
   "metadata": {},
   "outputs": [
    {
     "data": {
      "text/plain": [
       "age                int64\n",
       "workclass         object\n",
       "fnlwgt             int64\n",
       "education         object\n",
       "education.num      int64\n",
       "marital.status    object\n",
       "occupation        object\n",
       "relationship      object\n",
       "race              object\n",
       "sex               object\n",
       "capital.gain       int64\n",
       "capital.loss       int64\n",
       "hours.per.week     int64\n",
       "native.country    object\n",
       "income            object\n",
       "dtype: object"
      ]
     },
     "execution_count": 8,
     "metadata": {},
     "output_type": "execute_result"
    }
   ],
   "source": [
    "adult.dtypes"
   ]
  },
  {
   "cell_type": "code",
   "execution_count": 9,
   "id": "8f707b8f-ee74-4286-9aaa-5960f86a304c",
   "metadata": {},
   "outputs": [
    {
     "name": "stdout",
     "output_type": "stream",
     "text": [
      "age               0\n",
      "workclass         0\n",
      "fnlwgt            0\n",
      "education         0\n",
      "education.num     0\n",
      "marital.status    0\n",
      "occupation        0\n",
      "relationship      0\n",
      "race              0\n",
      "sex               0\n",
      "capital.gain      0\n",
      "capital.loss      0\n",
      "hours.per.week    0\n",
      "native.country    0\n",
      "income            0\n",
      "dtype: int64\n"
     ]
    }
   ],
   "source": [
    "print(adult.isnull().sum())"
   ]
  },
  {
   "cell_type": "code",
   "execution_count": 10,
   "id": "718d63f0-62ff-4353-9a2d-554bb873e9e2",
   "metadata": {},
   "outputs": [
    {
     "data": {
      "text/plain": [
       "age                  73\n",
       "workclass             9\n",
       "fnlwgt            21648\n",
       "education            16\n",
       "education.num        16\n",
       "marital.status        7\n",
       "occupation           15\n",
       "relationship          6\n",
       "race                  5\n",
       "sex                   2\n",
       "capital.gain        119\n",
       "capital.loss         92\n",
       "hours.per.week       94\n",
       "native.country       42\n",
       "income                2\n",
       "dtype: int64"
      ]
     },
     "execution_count": 10,
     "metadata": {},
     "output_type": "execute_result"
    }
   ],
   "source": [
    "adult.nunique()"
   ]
  },
  {
   "cell_type": "code",
   "execution_count": 24,
   "id": "91721409-7190-4916-9402-c243f93fba04",
   "metadata": {},
   "outputs": [],
   "source": [
    "# Separate categorical and numerical columns\n",
    "cat_col = adult.select_dtypes(include=['object']).columns\n",
    "num_col = adult.select_dtypes(exclude=['object']).columns"
   ]
  },
  {
   "cell_type": "code",
   "execution_count": 26,
   "id": "fd0cab61-5891-4e69-bc59-795ed752ab7e",
   "metadata": {},
   "outputs": [
    {
     "name": "stdout",
     "output_type": "stream",
     "text": [
      "\n",
      "Categorical Columns Data Types:\n",
      "workclass         object\n",
      "education         object\n",
      "marital.status    object\n",
      "occupation        object\n",
      "relationship      object\n",
      "race              object\n",
      "sex               object\n",
      "native.country    object\n",
      "income            object\n",
      "dtype: object\n",
      "\n",
      "Numerical Columns Data Types:\n",
      "age               int64\n",
      "fnlwgt            int64\n",
      "education.num     int64\n",
      "capital.gain      int64\n",
      "capital.loss      int64\n",
      "hours.per.week    int64\n",
      "dtype: object\n"
     ]
    }
   ],
   "source": [
    "# Confirm data types of categorical and numerical groups\n",
    "print(\"\\nCategorical Columns Data Types:\")\n",
    "print(adult[cat_col].dtypes)\n",
    "\n",
    "print(\"\\nNumerical Columns Data Types:\")\n",
    "print(adult[num_col].dtypes)"
   ]
  },
  {
   "cell_type": "code",
   "execution_count": 12,
   "id": "13285f74-4389-41c1-ab68-a72b830342c4",
   "metadata": {},
   "outputs": [
    {
     "name": "stdout",
     "output_type": "stream",
     "text": [
      "\n",
      "-------------------- Workclass --------------------\n",
      "                  Total   Percent\n",
      "workclass                        \n",
      "Private           22696  0.697030\n",
      "Self-emp-not-inc   2541  0.078038\n",
      "Local-gov          2093  0.064279\n",
      "?                  1836  0.056386\n",
      "State-gov          1298  0.039864\n",
      "Self-emp-inc       1116  0.034274\n",
      "Federal-gov         960  0.029483\n",
      "Without-pay          14  0.000430\n",
      "Never-worked          7  0.000215\n",
      "\n",
      "-------------------- Education --------------------\n",
      "              Total   Percent\n",
      "education                    \n",
      "HS-grad       10501  0.322502\n",
      "Some-college   7291  0.223918\n",
      "Bachelors      5355  0.164461\n",
      "Masters        1723  0.052916\n",
      "Assoc-voc      1382  0.042443\n",
      "11th           1175  0.036086\n",
      "Assoc-acdm     1067  0.032769\n",
      "10th            933  0.028654\n",
      "7th-8th         646  0.019840\n",
      "Prof-school     576  0.017690\n",
      "9th             514  0.015786\n",
      "12th            433  0.013298\n",
      "Doctorate       413  0.012684\n",
      "5th-6th         333  0.010227\n",
      "1st-4th         168  0.005160\n",
      "Preschool        51  0.001566\n",
      "\n",
      "-------------------- Marital.Status --------------------\n",
      "                       Total   Percent\n",
      "marital.status                        \n",
      "Married-civ-spouse     14976  0.459937\n",
      "Never-married          10683  0.328092\n",
      "Divorced                4443  0.136452\n",
      "Separated               1025  0.031479\n",
      "Widowed                  993  0.030497\n",
      "Married-spouse-absent    418  0.012837\n",
      "Married-AF-spouse         23  0.000706\n",
      "\n",
      "-------------------- Occupation --------------------\n",
      "                   Total   Percent\n",
      "occupation                        \n",
      "Prof-specialty      4140  0.127146\n",
      "Craft-repair        4099  0.125887\n",
      "Exec-managerial     4066  0.124873\n",
      "Adm-clerical        3770  0.115783\n",
      "Sales               3650  0.112097\n",
      "Other-service       3295  0.101195\n",
      "Machine-op-inspct   2002  0.061485\n",
      "?                   1843  0.056601\n",
      "Transport-moving    1597  0.049046\n",
      "Handlers-cleaners   1370  0.042075\n",
      "Farming-fishing      994  0.030527\n",
      "Tech-support         928  0.028500\n",
      "Protective-serv      649  0.019932\n",
      "Priv-house-serv      149  0.004576\n",
      "Armed-Forces           9  0.000276\n",
      "\n",
      "-------------------- Relationship --------------------\n",
      "                Total   Percent\n",
      "relationship                   \n",
      "Husband         13193  0.405178\n",
      "Not-in-family    8305  0.255060\n",
      "Own-child        5068  0.155646\n",
      "Unmarried        3446  0.105832\n",
      "Wife             1568  0.048156\n",
      "Other-relative    981  0.030128\n",
      "\n",
      "-------------------- Race --------------------\n",
      "                    Total   Percent\n",
      "race                               \n",
      "White               27816  0.854274\n",
      "Black                3124  0.095943\n",
      "Asian-Pac-Islander   1039  0.031909\n",
      "Amer-Indian-Eskimo    311  0.009551\n",
      "Other                 271  0.008323\n",
      "\n",
      "-------------------- Sex --------------------\n",
      "        Total   Percent\n",
      "sex                    \n",
      "Male    21790  0.669205\n",
      "Female  10771  0.330795\n",
      "\n",
      "-------------------- Native.Country --------------------\n",
      "                            Total   Percent\n",
      "native.country                             \n",
      "United-States               29170  0.895857\n",
      "Mexico                        643  0.019748\n",
      "?                             583  0.017905\n",
      "Philippines                   198  0.006081\n",
      "Germany                       137  0.004207\n",
      "Canada                        121  0.003716\n",
      "Puerto-Rico                   114  0.003501\n",
      "El-Salvador                   106  0.003255\n",
      "India                         100  0.003071\n",
      "Cuba                           95  0.002918\n",
      "England                        90  0.002764\n",
      "Jamaica                        81  0.002488\n",
      "South                          80  0.002457\n",
      "China                          75  0.002303\n",
      "Italy                          73  0.002242\n",
      "Dominican-Republic             70  0.002150\n",
      "Vietnam                        67  0.002058\n",
      "Guatemala                      64  0.001966\n",
      "Japan                          62  0.001904\n",
      "Poland                         60  0.001843\n",
      "Columbia                       59  0.001812\n",
      "Taiwan                         51  0.001566\n",
      "Haiti                          44  0.001351\n",
      "Iran                           43  0.001321\n",
      "Portugal                       37  0.001136\n",
      "Nicaragua                      34  0.001044\n",
      "Peru                           31  0.000952\n",
      "Greece                         29  0.000891\n",
      "France                         29  0.000891\n",
      "Ecuador                        28  0.000860\n",
      "Ireland                        24  0.000737\n",
      "Hong                           20  0.000614\n",
      "Trinadad&Tobago                19  0.000584\n",
      "Cambodia                       19  0.000584\n",
      "Thailand                       18  0.000553\n",
      "Laos                           18  0.000553\n",
      "Yugoslavia                     16  0.000491\n",
      "Outlying-US(Guam-USVI-etc)     14  0.000430\n",
      "Hungary                        13  0.000399\n",
      "Honduras                       13  0.000399\n",
      "Scotland                       12  0.000369\n",
      "Holand-Netherlands              1  0.000031\n",
      "\n",
      "-------------------- Income --------------------\n",
      "        Total  Percent\n",
      "income                \n",
      "<=50K   24720  0.75919\n",
      ">50K     7841  0.24081\n"
     ]
    }
   ],
   "source": [
    "# Loop through each categorical column and display value counts and percentages\n",
    "for col in cat_col.index:\n",
    "    print(f\"\\n{'-' * 20} {col.title()} {'-' * 20}\")\n",
    "\n",
    "# Create a DataFrame with total and percentage counts\n",
    "    value_counts = adult[col].value_counts()\n",
    "    percent_counts = value_counts / len(adult)\n",
    "    summary_df = pd.DataFrame({'Total': value_counts, 'Percent': percent_counts})\n",
    "\n",
    "    print(summary_df)"
   ]
  },
  {
   "cell_type": "code",
   "execution_count": 13,
   "id": "771e033d-be52-4088-96d5-df951df40f8d",
   "metadata": {},
   "outputs": [],
   "source": [
    "# Replace '?' with 'unknown' in the specified columns and verify replacement\n",
    "edit_cols = ['native.country', 'occupation', 'workclass']\n",
    "\n",
    "# Replace '?' with 'unknown' using .replace() method\n",
    "adult[edit_cols] = adult[edit_cols].replace('?', 'unknown')"
   ]
  },
  {
   "cell_type": "code",
   "execution_count": 14,
   "id": "ca6162ff-6af4-47ce-ba9e-659fa29d0a05",
   "metadata": {},
   "outputs": [
    {
     "name": "stdout",
     "output_type": "stream",
     "text": [
      "? in native.country: False\n",
      "? in occupation: False\n",
      "? in workclass: False\n"
     ]
    }
   ],
   "source": [
    "# Check if '?' is still present in the columns\n",
    "for col in edit_cols:\n",
    "    is_present = (adult[col] == '?').any()\n",
    "    print(f\"? in {col}: {is_present}\")"
   ]
  },
  {
   "cell_type": "code",
   "execution_count": 19,
   "id": "10f485e8-5d72-48b7-9f84-e87dfe8dd443",
   "metadata": {},
   "outputs": [
    {
     "name": "stdout",
     "output_type": "stream",
     "text": [
      "education\n",
      "HS-grad              13556\n",
      "Some-college          7291\n",
      "Bachelors             5355\n",
      "Masters               1723\n",
      "Assoc-voc             1382\n",
      "elementary_school     1147\n",
      "Assoc-acdm            1067\n",
      "Prof-school            576\n",
      "Doctorate              413\n",
      "Preschool               51\n",
      "Name: education, dtype: int64\n"
     ]
    }
   ],
   "source": [
    "# Define categories for grouping education levels\n",
    "hs_grad = ['HS-grad', '11th', '10th', '9th', '12th']\n",
    "elementary = ['1st-4th', '5th-6th', '7th-8th']\n",
    "# Replace specified education levels with grouped categories\n",
    "adult['education'].replace(hs_grad, 'HS-grad', inplace=True)\n",
    "adult['education'].replace(elementary, 'elementary_school', inplace=True)\n",
    "# Display value counts for education\n",
    "education_counts = adult['education'].value_counts()\n",
    "education_counts.name = 'education'\n",
    "print(education_counts)"
   ]
  },
  {
   "cell_type": "code",
   "execution_count": 21,
   "id": "73378351-9ff4-40b4-ac63-e4bf8517d108",
   "metadata": {},
   "outputs": [
    {
     "name": "stdout",
     "output_type": "stream",
     "text": [
      "marital.status\n",
      "Married          15417\n",
      "Never-married    10683\n",
      "Separated         5468\n",
      "Widowed            993\n",
      "Name: marital.status, dtype: int64\n"
     ]
    }
   ],
   "source": [
    "# Define categories for marital status grouping\n",
    "married = ['Married-spouse-absent', 'Married-civ-spouse', 'Married-AF-spouse']\n",
    "separated = ['Separated', 'Divorced']\n",
    "\n",
    "# Replace specified marital statuses with grouped categories\n",
    "adult['marital.status'].replace(married, 'Married', inplace=True)\n",
    "adult['marital.status'].replace(separated, 'Separated', inplace=True)\n",
    "\n",
    "# Display value counts for marital status\n",
    "marital_counts = adult['marital.status'].value_counts()\n",
    "marital_counts.name = 'marital.status'\n",
    "print(marital_counts)"
   ]
  },
  {
   "cell_type": "code",
   "execution_count": 22,
   "id": "e4593e0c-48de-426e-ad21-16a0b557d264",
   "metadata": {},
   "outputs": [
    {
     "name": "stdout",
     "output_type": "stream",
     "text": [
      "workclass\n",
      "Private           22696\n",
      "Govt_employees     4351\n",
      "Self_employed      3657\n",
      "unknown            1836\n",
      "Without-pay          14\n",
      "Never-worked          7\n",
      "Name: workclass, dtype: int64\n"
     ]
    }
   ],
   "source": [
    "# Define categories for workclass grouping\n",
    "self_employed = ['Self-emp-not-inc', 'Self-emp-inc']\n",
    "govt_employees = ['Local-gov', 'State-gov', 'Federal-gov']\n",
    "\n",
    "# Replace specified workclass categories with grouped categories\n",
    "adult['workclass'].replace(self_employed, 'Self_employed', inplace=True)\n",
    "adult['workclass'].replace(govt_employees, 'Govt_employees', inplace=True)\n",
    "\n",
    "# Display value counts for workclass\n",
    "workclass_counts = adult['workclass'].value_counts()\n",
    "workclass_counts.name = 'workclass'\n",
    "print(workclass_counts)"
   ]
  },
  {
   "cell_type": "code",
   "execution_count": null,
   "id": "8473ec53-066f-411e-8659-c347c9dbd8d1",
   "metadata": {},
   "outputs": [],
   "source": []
  },
  {
   "cell_type": "code",
   "execution_count": null,
   "id": "e8fb8554-59c4-4959-8c8e-a8ee37d10d3f",
   "metadata": {},
   "outputs": [],
   "source": []
  },
  {
   "cell_type": "code",
   "execution_count": null,
   "id": "606e8d8c-d6d1-4490-b31c-8191d8be4b63",
   "metadata": {},
   "outputs": [],
   "source": []
  },
  {
   "cell_type": "code",
   "execution_count": null,
   "id": "cac06fa2-c7c4-4a89-a0dd-712fa3c91a41",
   "metadata": {},
   "outputs": [],
   "source": []
  },
  {
   "cell_type": "code",
   "execution_count": null,
   "id": "51047971-30b0-4d30-83d9-354933f24a89",
   "metadata": {},
   "outputs": [],
   "source": []
  }
 ],
 "metadata": {
  "kernelspec": {
   "display_name": "Python 3 (ipykernel)",
   "language": "python",
   "name": "python3"
  },
  "language_info": {
   "codemirror_mode": {
    "name": "ipython",
    "version": 3
   },
   "file_extension": ".py",
   "mimetype": "text/x-python",
   "name": "python",
   "nbconvert_exporter": "python",
   "pygments_lexer": "ipython3",
   "version": "3.12.5"
  }
 },
 "nbformat": 4,
 "nbformat_minor": 5
}
